{
 "cells": [
  {
   "cell_type": "code",
   "execution_count": 1,
   "metadata": {},
   "outputs": [],
   "source": [
    "import scanpy as sc\n",
    "import pandas as pd\n",
    "import numpy as np\n",
    "import scipy.sparse as sp\n",
    "from tqdm import tqdm\n",
    "import matplotlib.pyplot as plt \n",
    "\n"
   ]
  },
  {
   "cell_type": "code",
   "execution_count": 2,
   "metadata": {},
   "outputs": [
    {
     "name": "stdout",
     "output_type": "stream",
     "text": [
      "CPU times: user 2.39 s, sys: 19.6 s, total: 21.9 s\n",
      "Wall time: 48.7 s\n"
     ]
    },
    {
     "data": {
      "text/plain": [
       "array([2., 1., 1., ..., 2., 1., 1.])"
      ]
     },
     "execution_count": 2,
     "metadata": {},
     "output_type": "execute_result"
    }
   ],
   "source": [
    "%%time \n",
    "adata = sc.read_h5ad(\"SCP1064/other/adata.h5ad\")\n",
    "adata.X.data"
   ]
  },
  {
   "cell_type": "code",
   "execution_count": 10,
   "metadata": {},
   "outputs": [],
   "source": [
    "sc.pp.filter_cells(adata, min_genes=0)\n",
    "sc.pp.filter_genes(adata, min_cells=0)"
   ]
  },
  {
   "cell_type": "code",
   "execution_count": 13,
   "metadata": {},
   "outputs": [
    {
     "data": {
      "text/plain": [
       "(304, 8376)"
      ]
     },
     "execution_count": 13,
     "metadata": {},
     "output_type": "execute_result"
    }
   ],
   "source": [
    "(adata.obs[\"n_genes\"] < 500).sum(), (adata.var[\"n_cells\"] < 500).sum()"
   ]
  },
  {
   "cell_type": "code",
   "execution_count": 14,
   "metadata": {},
   "outputs": [],
   "source": [
    "sc.pp.filter_cells(adata, min_genes=500)\n",
    "sc.pp.filter_genes(adata, min_cells=500)"
   ]
  },
  {
   "cell_type": "code",
   "execution_count": 15,
   "metadata": {},
   "outputs": [],
   "source": [
    "adata.layers[\"counts\"] = adata.X.copy()\n",
    "sc.pp.normalize_total(adata, target_sum=1e5)\n",
    "sc.pp.log1p(adata)"
   ]
  },
  {
   "cell_type": "code",
   "execution_count": 16,
   "metadata": {},
   "outputs": [
    {
     "data": {
      "text/html": [
       "<div>\n",
       "<style scoped>\n",
       "    .dataframe tbody tr th:only-of-type {\n",
       "        vertical-align: middle;\n",
       "    }\n",
       "\n",
       "    .dataframe tbody tr th {\n",
       "        vertical-align: top;\n",
       "    }\n",
       "\n",
       "    .dataframe thead th {\n",
       "        text-align: right;\n",
       "    }\n",
       "</style>\n",
       "<table border=\"1\" class=\"dataframe\">\n",
       "  <thead>\n",
       "    <tr style=\"text-align: right;\">\n",
       "      <th></th>\n",
       "      <th>library_preparation_protocol</th>\n",
       "      <th>condition</th>\n",
       "      <th>MOI</th>\n",
       "      <th>sgRNA</th>\n",
       "      <th>UMI_count</th>\n",
       "      <th>sgRNAs</th>\n",
       "      <th>n_genes</th>\n",
       "    </tr>\n",
       "    <tr>\n",
       "      <th>NAME</th>\n",
       "      <th></th>\n",
       "      <th></th>\n",
       "      <th></th>\n",
       "      <th></th>\n",
       "      <th></th>\n",
       "      <th></th>\n",
       "      <th></th>\n",
       "    </tr>\n",
       "  </thead>\n",
       "  <tbody>\n",
       "    <tr>\n",
       "      <th>CELL_1</th>\n",
       "      <td>10X 3' v3 sequencing</td>\n",
       "      <td>Control</td>\n",
       "      <td>1</td>\n",
       "      <td>HLA-B_2</td>\n",
       "      <td>10832.0</td>\n",
       "      <td>HLA-B_2</td>\n",
       "      <td>3520</td>\n",
       "    </tr>\n",
       "    <tr>\n",
       "      <th>CELL_2</th>\n",
       "      <td>10X 3' v3 sequencing</td>\n",
       "      <td>Control</td>\n",
       "      <td>2</td>\n",
       "      <td>NaN</td>\n",
       "      <td>10731.0</td>\n",
       "      <td>NGFR_3,SERPINF1_3</td>\n",
       "      <td>3531</td>\n",
       "    </tr>\n",
       "    <tr>\n",
       "      <th>CELL_3</th>\n",
       "      <td>10X 3' v3 sequencing</td>\n",
       "      <td>Control</td>\n",
       "      <td>1</td>\n",
       "      <td>HLA-B_2</td>\n",
       "      <td>28821.0</td>\n",
       "      <td>HLA-B_2</td>\n",
       "      <td>5541</td>\n",
       "    </tr>\n",
       "    <tr>\n",
       "      <th>CELL_4</th>\n",
       "      <td>10X 3' v3 sequencing</td>\n",
       "      <td>Control</td>\n",
       "      <td>2</td>\n",
       "      <td>NaN</td>\n",
       "      <td>15322.0</td>\n",
       "      <td>NMRK1_3,S100A6_3</td>\n",
       "      <td>4086</td>\n",
       "    </tr>\n",
       "    <tr>\n",
       "      <th>CELL_5</th>\n",
       "      <td>10X 3' v3 sequencing</td>\n",
       "      <td>Control</td>\n",
       "      <td>0</td>\n",
       "      <td>NaN</td>\n",
       "      <td>10314.0</td>\n",
       "      <td></td>\n",
       "      <td>3178</td>\n",
       "    </tr>\n",
       "    <tr>\n",
       "      <th>...</th>\n",
       "      <td>...</td>\n",
       "      <td>...</td>\n",
       "      <td>...</td>\n",
       "      <td>...</td>\n",
       "      <td>...</td>\n",
       "      <td>...</td>\n",
       "      <td>...</td>\n",
       "    </tr>\n",
       "    <tr>\n",
       "      <th>CELL_218327</th>\n",
       "      <td>10X 3' v3 sequencing</td>\n",
       "      <td>Co-culture</td>\n",
       "      <td>4</td>\n",
       "      <td>NaN</td>\n",
       "      <td>12722.0</td>\n",
       "      <td>CTSO_3,PIK3IP1_3,VDAC2_2,WNT7A_1</td>\n",
       "      <td>3686</td>\n",
       "    </tr>\n",
       "    <tr>\n",
       "      <th>CELL_218328</th>\n",
       "      <td>10X 3' v3 sequencing</td>\n",
       "      <td>Co-culture</td>\n",
       "      <td>2</td>\n",
       "      <td>NaN</td>\n",
       "      <td>11643.0</td>\n",
       "      <td>JAK2_3,SLC7A5P1_3</td>\n",
       "      <td>3462</td>\n",
       "    </tr>\n",
       "    <tr>\n",
       "      <th>CELL_218329</th>\n",
       "      <td>10X 3' v3 sequencing</td>\n",
       "      <td>Co-culture</td>\n",
       "      <td>3</td>\n",
       "      <td>NaN</td>\n",
       "      <td>12497.0</td>\n",
       "      <td>S100A6_2,SAT1_2,ONE_NON-GENE_SITE_177</td>\n",
       "      <td>3768</td>\n",
       "    </tr>\n",
       "    <tr>\n",
       "      <th>CELL_218330</th>\n",
       "      <td>10X 3' v3 sequencing</td>\n",
       "      <td>Co-culture</td>\n",
       "      <td>1</td>\n",
       "      <td>CDKN2B_3</td>\n",
       "      <td>17941.0</td>\n",
       "      <td>CDKN2B_3</td>\n",
       "      <td>4158</td>\n",
       "    </tr>\n",
       "    <tr>\n",
       "      <th>CELL_218331</th>\n",
       "      <td>10X 3' v3 sequencing</td>\n",
       "      <td>Co-culture</td>\n",
       "      <td>1</td>\n",
       "      <td>NO_SITE_694</td>\n",
       "      <td>7968.0</td>\n",
       "      <td>NO_SITE_694</td>\n",
       "      <td>2888</td>\n",
       "    </tr>\n",
       "  </tbody>\n",
       "</table>\n",
       "<p>218027 rows × 7 columns</p>\n",
       "</div>"
      ],
      "text/plain": [
       "            library_preparation_protocol   condition  MOI        sgRNA  \\\n",
       "NAME                                                                     \n",
       "CELL_1              10X 3' v3 sequencing     Control    1      HLA-B_2   \n",
       "CELL_2              10X 3' v3 sequencing     Control    2          NaN   \n",
       "CELL_3              10X 3' v3 sequencing     Control    1      HLA-B_2   \n",
       "CELL_4              10X 3' v3 sequencing     Control    2          NaN   \n",
       "CELL_5              10X 3' v3 sequencing     Control    0          NaN   \n",
       "...                                  ...         ...  ...          ...   \n",
       "CELL_218327         10X 3' v3 sequencing  Co-culture    4          NaN   \n",
       "CELL_218328         10X 3' v3 sequencing  Co-culture    2          NaN   \n",
       "CELL_218329         10X 3' v3 sequencing  Co-culture    3          NaN   \n",
       "CELL_218330         10X 3' v3 sequencing  Co-culture    1     CDKN2B_3   \n",
       "CELL_218331         10X 3' v3 sequencing  Co-culture    1  NO_SITE_694   \n",
       "\n",
       "             UMI_count                                 sgRNAs  n_genes  \n",
       "NAME                                                                    \n",
       "CELL_1         10832.0                                HLA-B_2     3520  \n",
       "CELL_2         10731.0                      NGFR_3,SERPINF1_3     3531  \n",
       "CELL_3         28821.0                                HLA-B_2     5541  \n",
       "CELL_4         15322.0                       NMRK1_3,S100A6_3     4086  \n",
       "CELL_5         10314.0                                            3178  \n",
       "...                ...                                    ...      ...  \n",
       "CELL_218327    12722.0       CTSO_3,PIK3IP1_3,VDAC2_2,WNT7A_1     3686  \n",
       "CELL_218328    11643.0                      JAK2_3,SLC7A5P1_3     3462  \n",
       "CELL_218329    12497.0  S100A6_2,SAT1_2,ONE_NON-GENE_SITE_177     3768  \n",
       "CELL_218330    17941.0                               CDKN2B_3     4158  \n",
       "CELL_218331     7968.0                            NO_SITE_694     2888  \n",
       "\n",
       "[218027 rows x 7 columns]"
      ]
     },
     "execution_count": 16,
     "metadata": {},
     "output_type": "execute_result"
    }
   ],
   "source": [
    "# make sure we can match sgRNAs back to the genes\n",
    "adata.obs"
   ]
  },
  {
   "cell_type": "code",
   "execution_count": 17,
   "metadata": {},
   "outputs": [
    {
     "name": "stderr",
     "output_type": "stream",
     "text": [
      "100%|██████████| 218027/218027 [00:10<00:00, 19918.72it/s]\n"
     ]
    }
   ],
   "source": [
    "# check if the field MOI has some irregularities, such that a truncated guide or a wrong number\n",
    "ind = []\n",
    "for index, row in tqdm(adata.obs.iterrows(), total=adata.n_obs):\n",
    "    flag = False\n",
    "    if row[\"sgRNAs\"] != \"\":\n",
    "        guides = row[\"sgRNAs\"].split(\",\")\n",
    "        if len(guides) != row[\"MOI\"]:\n",
    "            flag = True\n",
    "        if \"_\" not in guides[-1]:\n",
    "            flag = True\n",
    "    if flag:\n",
    "        ind += [index]"
   ]
  },
  {
   "cell_type": "code",
   "execution_count": 18,
   "metadata": {},
   "outputs": [
    {
     "data": {
      "text/plain": [
       "[]"
      ]
     },
     "execution_count": 18,
     "metadata": {},
     "output_type": "execute_result"
    }
   ],
   "source": [
    "# empty!!\n",
    "ind"
   ]
  },
  {
   "cell_type": "code",
   "execution_count": 19,
   "metadata": {},
   "outputs": [
    {
     "name": "stderr",
     "output_type": "stream",
     "text": [
      "100%|██████████| 218027/218027 [00:11<00:00, 18466.40it/s]\n"
     ]
    }
   ],
   "source": [
    "# check gene sets and ensure matching with measurements\n",
    "err = 0\n",
    "ind = []\n",
    "obs_genes = {}\n",
    "unfound_genes = {}\n",
    "targets = []\n",
    "for index, row in tqdm(adata.obs.iterrows(), total=adata.n_obs):\n",
    "    current_target = []\n",
    "    if row[\"sgRNAs\"] != \"\":\n",
    "        # get all guides in cells\n",
    "        sg = row[\"sgRNAs\"].split(\",\")\n",
    "        # get gene name by stripping guide specific info\n",
    "        sg_genes = [guide.rsplit(\"_\", maxsplit=1)[0] for guide in sg]\n",
    "        for gene in sg_genes:\n",
    "            if gene in adata.var.index:\n",
    "                # gene is found\n",
    "                current_target += [gene]\n",
    "                if gene not in obs_genes:\n",
    "                    obs_genes[gene] = 1\n",
    "                else:\n",
    "                    obs_genes[gene] += 1\n",
    "            else:\n",
    "                if gene not in unfound_genes:\n",
    "                    unfound_genes[gene] = 1\n",
    "                else:\n",
    "                    unfound_genes[gene] += 1\n",
    "    # end gene list\n",
    "    targets += [\",\".join(current_target)]"
   ]
  },
  {
   "cell_type": "code",
   "execution_count": 20,
   "metadata": {},
   "outputs": [],
   "source": [
    "# create regimes\n",
    "regimes = np.unique(targets, return_inverse=True)[1]"
   ]
  },
  {
   "cell_type": "code",
   "execution_count": 21,
   "metadata": {},
   "outputs": [],
   "source": [
    "adata.obs[\"targets\"] = targets\n",
    "adata.obs[\"regimes\"] = regimes"
   ]
  },
  {
   "cell_type": "code",
   "execution_count": 22,
   "metadata": {},
   "outputs": [
    {
     "data": {
      "text/plain": [
       "220"
      ]
     },
     "execution_count": 22,
     "metadata": {},
     "output_type": "execute_result"
    }
   ],
   "source": [
    "len(obs_genes.keys())"
   ]
  },
  {
   "cell_type": "code",
   "execution_count": 23,
   "metadata": {},
   "outputs": [
    {
     "data": {
      "text/plain": [
       "dict_keys(['NGFR', 'SERPINF1', 'CSPG4', 'PIK3IP1', 'ONE_NON-GENE_SITE', 'NO_SITE', 'NUP50-AS1', 'IDI2-AS1', 'CXCR4', 'JMJD7', 'TYR', 'BOLA2', 'LRRC75A-AS1', 'LINC00518', 'APOD', 'A2M', 'LEF1-AS1', 'SLC7A5P1', 'SERPINA3', 'WNT7A', 'GAS5', 'IRF4', 'APOC2', 'XAGE1A', 'CCND2', 'CDH19', 'ST6GALNAC2', 'S100B', 'HLA-H', 'SNHG6'])"
      ]
     },
     "execution_count": 23,
     "metadata": {},
     "output_type": "execute_result"
    }
   ],
   "source": [
    "# some leftover genes I couldn't match\n",
    "unfound_genes.keys()"
   ]
  },
  {
   "cell_type": "markdown",
   "metadata": {},
   "source": [
    "## step 2: comparing variability of gene expression to guide ID"
   ]
  },
  {
   "cell_type": "code",
   "execution_count": 24,
   "metadata": {},
   "outputs": [
    {
     "name": "stdout",
     "output_type": "stream",
     "text": [
      "CPU times: user 38 s, sys: 1min 37s, total: 2min 15s\n",
      "Wall time: 4min 24s\n"
     ]
    }
   ],
   "source": [
    "%%time\n",
    "sc.pp.highly_variable_genes(adata, layer=\"counts\", flavor='seurat_v3', n_top_genes=3000 , span=0.2)"
   ]
  },
  {
   "cell_type": "code",
   "execution_count": 25,
   "metadata": {},
   "outputs": [
    {
     "data": {
      "text/html": [
       "<div>\n",
       "<style scoped>\n",
       "    .dataframe tbody tr th:only-of-type {\n",
       "        vertical-align: middle;\n",
       "    }\n",
       "\n",
       "    .dataframe tbody tr th {\n",
       "        vertical-align: top;\n",
       "    }\n",
       "\n",
       "    .dataframe thead th {\n",
       "        text-align: right;\n",
       "    }\n",
       "</style>\n",
       "<table border=\"1\" class=\"dataframe\">\n",
       "  <thead>\n",
       "    <tr style=\"text-align: right;\">\n",
       "      <th></th>\n",
       "      <th>n_cells</th>\n",
       "      <th>highly_variable</th>\n",
       "      <th>highly_variable_rank</th>\n",
       "      <th>means</th>\n",
       "      <th>variances</th>\n",
       "      <th>variances_norm</th>\n",
       "    </tr>\n",
       "  </thead>\n",
       "  <tbody>\n",
       "    <tr>\n",
       "      <th>A1BG</th>\n",
       "      <td>34703</td>\n",
       "      <td>True</td>\n",
       "      <td>1689.0</td>\n",
       "      <td>0.189256</td>\n",
       "      <td>0.232778</td>\n",
       "      <td>1.069112</td>\n",
       "    </tr>\n",
       "    <tr>\n",
       "      <th>A1BG-AS1</th>\n",
       "      <td>12461</td>\n",
       "      <td>False</td>\n",
       "      <td>NaN</td>\n",
       "      <td>0.060226</td>\n",
       "      <td>0.063213</td>\n",
       "      <td>0.964280</td>\n",
       "    </tr>\n",
       "    <tr>\n",
       "      <th>A4GALT</th>\n",
       "      <td>1537</td>\n",
       "      <td>False</td>\n",
       "      <td>NaN</td>\n",
       "      <td>0.007233</td>\n",
       "      <td>0.007566</td>\n",
       "      <td>0.985149</td>\n",
       "    </tr>\n",
       "    <tr>\n",
       "      <th>AAAS</th>\n",
       "      <td>39657</td>\n",
       "      <td>False</td>\n",
       "      <td>NaN</td>\n",
       "      <td>0.213538</td>\n",
       "      <td>0.241693</td>\n",
       "      <td>0.970792</td>\n",
       "    </tr>\n",
       "    <tr>\n",
       "      <th>AACS</th>\n",
       "      <td>19249</td>\n",
       "      <td>False</td>\n",
       "      <td>NaN</td>\n",
       "      <td>0.094887</td>\n",
       "      <td>0.099974</td>\n",
       "      <td>0.948419</td>\n",
       "    </tr>\n",
       "    <tr>\n",
       "      <th>...</th>\n",
       "      <td>...</td>\n",
       "      <td>...</td>\n",
       "      <td>...</td>\n",
       "      <td>...</td>\n",
       "      <td>...</td>\n",
       "      <td>...</td>\n",
       "    </tr>\n",
       "    <tr>\n",
       "      <th>ZXDB</th>\n",
       "      <td>2581</td>\n",
       "      <td>False</td>\n",
       "      <td>NaN</td>\n",
       "      <td>0.011994</td>\n",
       "      <td>0.012162</td>\n",
       "      <td>0.957151</td>\n",
       "    </tr>\n",
       "    <tr>\n",
       "      <th>ZXDC</th>\n",
       "      <td>14586</td>\n",
       "      <td>False</td>\n",
       "      <td>NaN</td>\n",
       "      <td>0.070569</td>\n",
       "      <td>0.073387</td>\n",
       "      <td>0.947735</td>\n",
       "    </tr>\n",
       "    <tr>\n",
       "      <th>ZYG11B</th>\n",
       "      <td>26023</td>\n",
       "      <td>False</td>\n",
       "      <td>NaN</td>\n",
       "      <td>0.132493</td>\n",
       "      <td>0.144036</td>\n",
       "      <td>0.972143</td>\n",
       "    </tr>\n",
       "    <tr>\n",
       "      <th>ZYX</th>\n",
       "      <td>153542</td>\n",
       "      <td>False</td>\n",
       "      <td>NaN</td>\n",
       "      <td>1.634701</td>\n",
       "      <td>3.017341</td>\n",
       "      <td>0.954339</td>\n",
       "    </tr>\n",
       "    <tr>\n",
       "      <th>ZZEF1</th>\n",
       "      <td>17083</td>\n",
       "      <td>False</td>\n",
       "      <td>NaN</td>\n",
       "      <td>0.083476</td>\n",
       "      <td>0.087635</td>\n",
       "      <td>0.948570</td>\n",
       "    </tr>\n",
       "  </tbody>\n",
       "</table>\n",
       "<p>15335 rows × 6 columns</p>\n",
       "</div>"
      ],
      "text/plain": [
       "          n_cells  highly_variable  highly_variable_rank     means  variances  \\\n",
       "A1BG        34703             True                1689.0  0.189256   0.232778   \n",
       "A1BG-AS1    12461            False                   NaN  0.060226   0.063213   \n",
       "A4GALT       1537            False                   NaN  0.007233   0.007566   \n",
       "AAAS        39657            False                   NaN  0.213538   0.241693   \n",
       "AACS        19249            False                   NaN  0.094887   0.099974   \n",
       "...           ...              ...                   ...       ...        ...   \n",
       "ZXDB         2581            False                   NaN  0.011994   0.012162   \n",
       "ZXDC        14586            False                   NaN  0.070569   0.073387   \n",
       "ZYG11B      26023            False                   NaN  0.132493   0.144036   \n",
       "ZYX        153542            False                   NaN  1.634701   3.017341   \n",
       "ZZEF1       17083            False                   NaN  0.083476   0.087635   \n",
       "\n",
       "          variances_norm  \n",
       "A1BG            1.069112  \n",
       "A1BG-AS1        0.964280  \n",
       "A4GALT          0.985149  \n",
       "AAAS            0.970792  \n",
       "AACS            0.948419  \n",
       "...                  ...  \n",
       "ZXDB            0.957151  \n",
       "ZXDC            0.947735  \n",
       "ZYG11B          0.972143  \n",
       "ZYX             0.954339  \n",
       "ZZEF1           0.948570  \n",
       "\n",
       "[15335 rows x 6 columns]"
      ]
     },
     "execution_count": 25,
     "metadata": {},
     "output_type": "execute_result"
    }
   ],
   "source": [
    "adata.var"
   ]
  },
  {
   "cell_type": "code",
   "execution_count": 27,
   "metadata": {},
   "outputs": [
    {
     "data": {
      "image/png": "[encoded data removed]",
      "text/plain": [
       "<Figure size 432x288 with 1 Axes>"
      ]
     },
     "metadata": {
      "needs_background": "light"
     },
     "output_type": "display_data"
    }
   ],
   "source": [
    "plt.scatter(adata.var[\"means\"], adata.var[\"variances\"], c=adata.var[\"highly_variable\"])\n",
    "plt.xlabel(\"means\")\n",
    "plt.ylabel(\"variances\")\n",
    "plt.xlim((0, 50))\n",
    "plt.ylim((0, 2000))\n",
    "plt.show()"
   ]
  },
  {
   "cell_type": "code",
   "execution_count": 28,
   "metadata": {},
   "outputs": [],
   "source": [
    "presence = pd.Series(data=np.zeros_like(adata.var[\"means\"]), index=adata.var.index)\n",
    "for gene in list(obs_genes.keys()):\n",
    "    presence[gene] += 1\n",
    "adata.var[\"targeted\"] = presence"
   ]
  },
  {
   "cell_type": "code",
   "execution_count": 29,
   "metadata": {},
   "outputs": [
    {
     "data": {
      "image/png": "[encoded data removed]",
      "text/plain": [
       "<Figure size 432x288 with 1 Axes>"
      ]
     },
     "metadata": {
      "needs_background": "light"
     },
     "output_type": "display_data"
    }
   ],
   "source": [
    "plt.scatter(adata.var[\"means\"], adata.var[\"variances\"], c=adata.var[\"targeted\"])\n",
    "plt.xlabel(\"means\")\n",
    "plt.ylabel(\"variances\")\n",
    "plt.xlim((0, 50))\n",
    "plt.ylim((0, 2000))\n",
    "plt.show()"
   ]
  },
  {
   "cell_type": "code",
   "execution_count": 18,
   "metadata": {},
   "outputs": [],
   "source": [
    "# adata.write_h5ad(\"SCP1064/other/processed_adata.h5ad\")"
   ]
  },
  {
   "cell_type": "code",
   "execution_count": 30,
   "metadata": {},
   "outputs": [
    {
     "data": {
      "text/plain": [
       "100.0"
      ]
     },
     "execution_count": 30,
     "metadata": {},
     "output_type": "execute_result"
    }
   ],
   "source": [
    "# out of 3000 highly variable genes, and 250 targeted genes, only 96 is in the intersection\n",
    "(adata.var[\"highly_variable\"] * adata.var[\"targeted\"]).sum()\n",
    "# for future reference we probably add all intervened genes and complete with highly variable "
   ]
  },
  {
   "cell_type": "code",
   "execution_count": 31,
   "metadata": {},
   "outputs": [
    {
     "data": {
      "text/plain": [
       "array(['Co-culture', 'Control', 'IFNγ'], dtype=object)"
      ]
     },
     "execution_count": 31,
     "metadata": {},
     "output_type": "execute_result"
    }
   ],
   "source": [
    "np.unique(adata.obs.condition.values)"
   ]
  },
  {
   "cell_type": "code",
   "execution_count": 32,
   "metadata": {},
   "outputs": [],
   "source": [
    "# filter genes (1000)\n",
    "to_keep = np.logical_or(adata.var[\"highly_variable_rank\"] < 1500, adata.var[\"targeted\"])\n",
    "adata_gf = adata[:, to_keep].copy()"
   ]
  },
  {
   "cell_type": "code",
   "execution_count": 33,
   "metadata": {},
   "outputs": [
    {
     "name": "stderr",
     "output_type": "stream",
     "text": [
      "/home/ubuntu/anaconda3/envs/torch/lib/python3.9/site-packages/anndata/_core/anndata.py:1228: FutureWarning: The `inplace` parameter in pandas.Categorical.reorder_categories is deprecated and will be removed in a future version. Reordering categories will always return a new Categorical object.\n",
      "  c.reorder_categories(natsorted(c.categories), inplace=True)\n",
      "... storing 'targets' as categorical\n",
      "/home/ubuntu/anaconda3/envs/torch/lib/python3.9/site-packages/anndata/_core/anndata.py:1228: FutureWarning: The `inplace` parameter in pandas.Categorical.reorder_categories is deprecated and will be removed in a future version. Reordering categories will always return a new Categorical object.\n",
      "  c.reorder_categories(natsorted(c.categories), inplace=True)\n",
      "... storing 'targets' as categorical\n",
      "/home/ubuntu/anaconda3/envs/torch/lib/python3.9/site-packages/anndata/_core/anndata.py:1228: FutureWarning: The `inplace` parameter in pandas.Categorical.reorder_categories is deprecated and will be removed in a future version. Reordering categories will always return a new Categorical object.\n",
      "  c.reorder_categories(natsorted(c.categories), inplace=True)\n",
      "... storing 'targets' as categorical\n"
     ]
    }
   ],
   "source": [
    "# filter conditions\n",
    "adata_gf[adata_gf.obs.condition == \"Control\"].copy().write_h5ad(\"SCP1064/ready/control/gene_filtered_adata.h5ad\")\n",
    "adata_gf[adata_gf.obs.condition == \"Co-culture\"].copy().write_h5ad(\"SCP1064/ready/cocult/gene_filtered_adata.h5ad\")\n",
    "adata_gf[adata_gf.obs.condition == \"IFNγ\"].copy().write_h5ad(\"SCP1064/ready/ifn/gene_filtered_adata.h5ad\")"
   ]
  },
  {
   "cell_type": "code",
   "execution_count": 45,
   "metadata": {},
   "outputs": [],
   "source": [
    "adata_small = adata_gf[np.random.choice(np.arange(adata.n_obs), size=10000, replace=False)].copy()\n",
    "adata_small.write_h5ad(\"SCP1064/other/small_adata.h5ad\")"
   ]
  },
  {
   "cell_type": "code",
   "execution_count": null,
   "metadata": {},
   "outputs": [],
   "source": []
  }
 ],
 "metadata": {
  "kernelspec": {
   "display_name": "Python 3.9.12 ('dcdfg')",
   "language": "python",
   "name": "python3"
  },
  "language_info": {
   "codemirror_mode": {
    "name": "ipython",
    "version": 3
   },
   "file_extension": ".py",
   "mimetype": "text/x-python",
   "name": "python",
   "nbconvert_exporter": "python",
   "pygments_lexer": "ipython3",
   "version": "3.9.12"
  },
  "orig_nbformat": 4,
  "vscode": {
   "interpreter": {
    "hash": "76b44b1b6b011050dce1bd141c94a7ee8f290b23a345131bb8f4754d0341dc5e"
   }
  }
 },
 "nbformat": 4,
 "nbformat_minor": 2
}
