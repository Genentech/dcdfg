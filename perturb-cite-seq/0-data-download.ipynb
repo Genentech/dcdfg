{
  "cells": [
    {
      "cell_type": "markdown",
      "metadata": {
        "id": "JYTrfVFnt4Kn"
      },
      "source": [
        "This is intended to be a simple notebook for going through analysis of the Perturb-CITE-seq data, and get a better sense of what the data looks like. \n",
        "\n",
        "Ressources:\n",
        "1. [Paper](https://www.nature.com/articles/s41588-021-00779-1)\n",
        "2. [Original code for reproducing the paper](https://github.com/klarman-cell-observatory/Perturb-CITE-seq) \n",
        "3. [Data release](https://singlecell.broadinstitute.org/single_cell/study/SCP1064/multi-modal-pooled-perturb-cite-seq-screens-in-patient-models-define-novel-mechanisms-of-cancer-immune-evasion)\n",
        "\n",
        "# Step 0a: Download the data onto the Colab hardware\n",
        "\n",
        "This (unfortunately) requires you to go through the following steps:\n",
        "1. Go to the data release [page](https://singlecell.broadinstitute.org/single_cell/study/SCP1064/multi-modal-pooled-perturb-cite-seq-screens-in-patient-models-define-novel-mechanisms-of-cancer-immune-evasion)\n",
        "2. Login / Create an account\n",
        "3. Click on Download\n",
        "4. Click on Bulk Download option\n",
        "5. Copy **only** the variable *auth_code* from the URL and paste it **onto** the auth_code of the URL for the curl command below (each authorization code only works for 30 minute), and run the command (had to customize it).\n",
        "\n",
        "It should take under two minute"
      ]
    },
    {
      "cell_type": "code",
      "execution_count": 1,
      "metadata": {
        "colab": {
          "base_uri": "https://localhost:8080/"
        },
        "id": "KbzTumWlw_B5",
        "outputId": "9398413e-74f5-4171-b69e-8fb12d9d1716"
      },
      "outputs": [
        {
          "name": "stdout",
          "output_type": "stream",
          "text": [
            "  % Total    % Received % Xferd  Average Speed   Time    Time     Time  Current\n",
            "                                 Dload  Upload   Total   Spent    Left  Speed\n",
            "100  7154    0  7154    0     0   3753      0 --:--:--  0:00:01 --:--:--  3753\n"
          ]
        }
      ],
      "source": [
        "!curl -k \"https://singlecell.broadinstitute.org/single_cell/api/v1/bulk_download/generate_curl_config?accessions=SCP1064&auth_code=Qo1e5U9N&directory=all\" -o cfg.txt"
      ]
    },
    {
      "cell_type": "code",
      "execution_count": 2,
      "metadata": {
        "colab": {
          "base_uri": "https://localhost:8080/"
        },
        "id": "FukIU2VPxQ_J",
        "outputId": "5c1fef72-2b15-4066-fa84-8d081032e269"
      },
      "outputs": [
        {
          "name": "stdout",
          "output_type": "stream",
          "text": [
            "  % Total    % Received % Xferd  Average Speed   Time    Time     Time  Current\n",
            "                                 Dload  Upload   Total   Spent    Left  Speed\n",
            "100  833M  100  833M    0     0  30.7M      0  0:00:27  0:00:27 --:--:-- 31.0M\n",
            "  % Total    % Received % Xferd  Average Speed   Time    Time     Time  Current\n",
            "                                 Dload  Upload   Total   Spent    Left  Speed\n",
            "100 1341k  100 1341k    0     0  5543k      0 --:--:-- --:--:-- --:--:-- 5566k\n",
            "  % Total    % Received % Xferd  Average Speed   Time    Time     Time  Current\n",
            "                                 Dload  Upload   Total   Spent    Left  Speed\n",
            "100 1879k  100 1879k    0     0  5177k      0 --:--:-- --:--:-- --:--:-- 5163k\n",
            "  % Total    % Received % Xferd  Average Speed   Time    Time     Time  Current\n",
            "                                 Dload  Upload   Total   Spent    Left  Speed\n",
            "100  895M  100  895M    0     0  31.3M      0  0:00:28  0:00:28 --:--:-- 32.0M\n",
            "  % Total    % Received % Xferd  Average Speed   Time    Time     Time  Current\n",
            "                                 Dload  Upload   Total   Spent    Left  Speed\n",
            "100  236M  100  236M    0     0  30.2M      0  0:00:07  0:00:07 --:--:-- 31.2M\n",
            "  % Total    % Received % Xferd  Average Speed   Time    Time     Time  Current\n",
            "                                 Dload  Upload   Total   Spent    Left  Speed\n",
            "100  811M  100  811M    0     0  31.3M      0  0:00:25  0:00:25 --:--:-- 32.0M\n",
            "  % Total    % Received % Xferd  Average Speed   Time    Time     Time  Current\n",
            "                                 Dload  Upload   Total   Spent    Left  Speed\n",
            "100 3351M  100 3351M    0     0  31.4M      0  0:01:46  0:01:46 --:--:-- 31.8M 23.2M      0  0:02:23  0:00:01  0:02:22 23.2M\n",
            "  % Total    % Received % Xferd  Average Speed   Time    Time     Time  Current\n",
            "                                 Dload  Upload   Total   Spent    Left  Speed\n",
            "100 2575k  100 2575k    0     0  5376k      0 --:--:-- --:--:-- --:--:-- 5376k\n",
            "  % Total    % Received % Xferd  Average Speed   Time    Time     Time  Current\n",
            "                                 Dload  Upload   Total   Spent    Left  Speed\n",
            "100  481M  100  481M    0     0  30.4M      0  0:00:15  0:00:15 --:--:-- 31.1M\n",
            "  % Total    % Received % Xferd  Average Speed   Time    Time     Time  Current\n",
            "                                 Dload  Upload   Total   Spent    Left  Speed\n",
            "100  245M  100  245M    0     0  30.1M      0  0:00:08  0:00:08 --:--:-- 31.2M\n",
            "  % Total    % Received % Xferd  Average Speed   Time    Time     Time  Current\n",
            "                                 Dload  Upload   Total   Spent    Left  Speed\n",
            "100 5365k  100 5365k    0     0  11.4M      0 --:--:-- --:--:-- --:--:-- 11.4M\n",
            "  % Total    % Received % Xferd  Average Speed   Time    Time     Time  Current\n",
            "                                 Dload  Upload   Total   Spent    Left  Speed\n",
            "100   263    0   263    0     0   1143      0 --:--:-- --:--:-- --:--:--  1143\n"
          ]
        }
      ],
      "source": [
        "!curl -k -K cfg.txt && rm cfg.txt"
      ]
    },
    {
      "cell_type": "markdown",
      "metadata": {
        "id": "c-FNnvgV0fzD"
      },
      "source": [
        "# Step 1: Load all the data onto scanpy"
      ]
    },
    {
      "cell_type": "code",
      "execution_count": 1,
      "metadata": {
        "id": "eVcuCSA20NU6"
      },
      "outputs": [],
      "source": [
        "import scanpy as sc\n",
        "import pandas as pd\n",
        "import numpy as np"
      ]
    },
    {
      "cell_type": "code",
      "execution_count": 2,
      "metadata": {},
      "outputs": [],
      "source": [
        "# make sparse and dump\n",
        "import scipy.sparse as sp"
      ]
    },
    {
      "cell_type": "code",
      "execution_count": 3,
      "metadata": {},
      "outputs": [],
      "source": [
        "data = sc.read_csv(\"SCP1064/other/RNA_expression.csv.gz\").transpose()"
      ]
    },
    {
      "cell_type": "code",
      "execution_count": 4,
      "metadata": {},
      "outputs": [],
      "source": [
        "# sparsify!\n",
        "data_sp = sp.csr_matrix(data.X)"
      ]
    },
    {
      "cell_type": "code",
      "execution_count": 5,
      "metadata": {
        "colab": {
          "base_uri": "https://localhost:8080/"
        },
        "id": "MawlTMpz7_IS",
        "outputId": "2628bf37-1f92-44fc-a23f-48287c00d18c"
      },
      "outputs": [
        {
          "name": "stderr",
          "output_type": "stream",
          "text": [
            "/home/ubuntu/anaconda3/envs/pytorch/lib/python3.9/site-packages/IPython/core/interactiveshell.py:3457: DtypeWarning: Columns (3,5) have mixed types.Specify dtype option on import or set low_memory=False.\n",
            "  exec(code_obj, self.user_global_ns, self.user_ns)\n"
          ]
        }
      ],
      "source": [
        "# get covariates \n",
        "covariates =  pd.read_csv(\"SCP1064/metadata/RNA_metadata.csv\", index_col=0).iloc[1:, ]\n",
        "data.obs = covariates"
      ]
    },
    {
      "cell_type": "code",
      "execution_count": 6,
      "metadata": {},
      "outputs": [],
      "source": [
        "# correct dtypes\n",
        "data.obs[\"MOI\"] = data.obs[\"MOI\"].astype(np.int32)\n",
        "data.obs[\"UMI_count\"] = data.obs[\"UMI_count\"].astype(np.double)"
      ]
    },
    {
      "cell_type": "code",
      "execution_count": 7,
      "metadata": {},
      "outputs": [
        {
          "name": "stdout",
          "output_type": "stream",
          "text": [
            "False\n"
          ]
        }
      ],
      "source": [
        "# de-normalize and round up\n",
        "norm_factor =  data.obs[\"UMI_count\"].values / 1.0e6\n",
        "Z = sp.diags(norm_factor).dot(np.expm1(data_sp))\n",
        "print(np.greater_equal(np.abs(Z.data - np.rint(Z.data)), 0.01).any())\n",
        "Z.data = np.rint(Z.data)\n",
        "data.X = Z"
      ]
    },
    {
      "cell_type": "code",
      "execution_count": 8,
      "metadata": {},
      "outputs": [],
      "source": [
        "# read guide info\n",
        "guide_info = pd.read_csv(\"SCP1064/documentation/all_sgRNA_assignments.txt\", index_col=0)\n",
        "guide_info = guide_info.replace(np.nan,'',regex=True)\n",
        "data.obs[\"sgRNAs\"] = guide_info[\"sgRNAs\"].astype(str)"
      ]
    },
    {
      "cell_type": "code",
      "execution_count": 10,
      "metadata": {},
      "outputs": [
        {
          "name": "stderr",
          "output_type": "stream",
          "text": [
            "/home/ubuntu/anaconda3/envs/pytorch/lib/python3.9/site-packages/anndata/_core/anndata.py:1228: FutureWarning: The `inplace` parameter in pandas.Categorical.reorder_categories is deprecated and will be removed in a future version. Reordering categories will always return a new Categorical object.\n",
            "  c.reorder_categories(natsorted(c.categories), inplace=True)\n",
            "... storing 'library_preparation_protocol' as categorical\n",
            "/home/ubuntu/anaconda3/envs/pytorch/lib/python3.9/site-packages/anndata/_core/anndata.py:1228: FutureWarning: The `inplace` parameter in pandas.Categorical.reorder_categories is deprecated and will be removed in a future version. Reordering categories will always return a new Categorical object.\n",
            "  c.reorder_categories(natsorted(c.categories), inplace=True)\n",
            "... storing 'condition' as categorical\n",
            "/home/ubuntu/anaconda3/envs/pytorch/lib/python3.9/site-packages/anndata/_core/anndata.py:1228: FutureWarning: The `inplace` parameter in pandas.Categorical.reorder_categories is deprecated and will be removed in a future version. Reordering categories will always return a new Categorical object.\n",
            "  c.reorder_categories(natsorted(c.categories), inplace=True)\n",
            "... storing 'sgRNA' as categorical\n",
            "/home/ubuntu/anaconda3/envs/pytorch/lib/python3.9/site-packages/anndata/_core/anndata.py:1228: FutureWarning: The `inplace` parameter in pandas.Categorical.reorder_categories is deprecated and will be removed in a future version. Reordering categories will always return a new Categorical object.\n",
            "  c.reorder_categories(natsorted(c.categories), inplace=True)\n",
            "... storing 'sgRNAs' as categorical\n"
          ]
        }
      ],
      "source": [
        "data.write_h5ad(\"SCP1064/other/adata.h5ad\")"
      ]
    },
    {
      "cell_type": "code",
      "execution_count": 9,
      "metadata": {},
      "outputs": [
        {
          "data": {
            "text/html": [
              "<div>\n",
              "<style scoped>\n",
              "    .dataframe tbody tr th:only-of-type {\n",
              "        vertical-align: middle;\n",
              "    }\n",
              "\n",
              "    .dataframe tbody tr th {\n",
              "        vertical-align: top;\n",
              "    }\n",
              "\n",
              "    .dataframe thead th {\n",
              "        text-align: right;\n",
              "    }\n",
              "</style>\n",
              "<table border=\"1\" class=\"dataframe\">\n",
              "  <thead>\n",
              "    <tr style=\"text-align: right;\">\n",
              "      <th></th>\n",
              "      <th>sgRNAs</th>\n",
              "    </tr>\n",
              "    <tr>\n",
              "      <th>Cell</th>\n",
              "      <th></th>\n",
              "    </tr>\n",
              "  </thead>\n",
              "  <tbody>\n",
              "    <tr>\n",
              "      <th>CELL_1</th>\n",
              "      <td>HLA-B_2</td>\n",
              "    </tr>\n",
              "    <tr>\n",
              "      <th>CELL_2</th>\n",
              "      <td>NGFR_3,SERPINF1_3</td>\n",
              "    </tr>\n",
              "    <tr>\n",
              "      <th>CELL_3</th>\n",
              "      <td>HLA-B_2</td>\n",
              "    </tr>\n",
              "    <tr>\n",
              "      <th>CELL_4</th>\n",
              "      <td>NMRK1_3,S100A6_3</td>\n",
              "    </tr>\n",
              "    <tr>\n",
              "      <th>CELL_5</th>\n",
              "      <td></td>\n",
              "    </tr>\n",
              "    <tr>\n",
              "      <th>...</th>\n",
              "      <td>...</td>\n",
              "    </tr>\n",
              "    <tr>\n",
              "      <th>CELL_218327</th>\n",
              "      <td>CTSO_3,PIK3IP1_3,VDAC2_2,WNT7A_1</td>\n",
              "    </tr>\n",
              "    <tr>\n",
              "      <th>CELL_218328</th>\n",
              "      <td>JAK2_3,SLC7A5P1_3</td>\n",
              "    </tr>\n",
              "    <tr>\n",
              "      <th>CELL_218329</th>\n",
              "      <td>S100A6_2,SAT1_2,ONE_NON-GENE_SITE_177</td>\n",
              "    </tr>\n",
              "    <tr>\n",
              "      <th>CELL_218330</th>\n",
              "      <td>CDKN2B_3</td>\n",
              "    </tr>\n",
              "    <tr>\n",
              "      <th>CELL_218331</th>\n",
              "      <td>NO_SITE_694</td>\n",
              "    </tr>\n",
              "  </tbody>\n",
              "</table>\n",
              "<p>218331 rows × 1 columns</p>\n",
              "</div>"
            ],
            "text/plain": [
              "                                            sgRNAs\n",
              "Cell                                              \n",
              "CELL_1                                     HLA-B_2\n",
              "CELL_2                           NGFR_3,SERPINF1_3\n",
              "CELL_3                                     HLA-B_2\n",
              "CELL_4                            NMRK1_3,S100A6_3\n",
              "CELL_5                                            \n",
              "...                                            ...\n",
              "CELL_218327       CTSO_3,PIK3IP1_3,VDAC2_2,WNT7A_1\n",
              "CELL_218328                      JAK2_3,SLC7A5P1_3\n",
              "CELL_218329  S100A6_2,SAT1_2,ONE_NON-GENE_SITE_177\n",
              "CELL_218330                               CDKN2B_3\n",
              "CELL_218331                            NO_SITE_694\n",
              "\n",
              "[218331 rows x 1 columns]"
            ]
          },
          "execution_count": 9,
          "metadata": {},
          "output_type": "execute_result"
        }
      ],
      "source": [
        "guide_info"
      ]
    },
    {
      "cell_type": "code",
      "execution_count": null,
      "metadata": {
        "colab": {
          "base_uri": "https://localhost:8080/"
        },
        "id": "53-xWeWc_0c1",
        "outputId": "200e8e4b-02db-4c44-b671-18bb3313d257"
      },
      "outputs": [
        {
          "data": {
            "text/plain": [
              "IFNγ          87590\n",
              "Co-culture    73114\n",
              "Control       57627\n",
              "Name: condition, dtype: int64"
            ]
          },
          "execution_count": 10,
          "metadata": {},
          "output_type": "execute_result"
        }
      ],
      "source": [
        "covariates[\"condition\"].value_counts()"
      ]
    },
    {
      "cell_type": "code",
      "execution_count": null,
      "metadata": {
        "colab": {
          "base_uri": "https://localhost:8080/"
        },
        "id": "1wRH-giD_-_B",
        "outputId": "d9511c27-dda2-414c-9faf-460212491145"
      },
      "outputs": [
        {
          "data": {
            "text/plain": [
              "1     126966\n",
              "2      45135\n",
              "0      23028\n",
              "3      14525\n",
              "4       5053\n",
              "5       1942\n",
              "6        793\n",
              "7        386\n",
              "8        222\n",
              "9        115\n",
              "10        64\n",
              "11        37\n",
              "12        30\n",
              "13        11\n",
              "15         9\n",
              "14         6\n",
              "17         4\n",
              "18         2\n",
              "19         2\n",
              "16         1\n",
              "Name: MOI, dtype: int64"
            ]
          },
          "execution_count": 11,
          "metadata": {},
          "output_type": "execute_result"
        }
      ],
      "source": [
        "# Multiplicity of infection = number of guides per cell?\n",
        "# Extended figure 2\n",
        "covariates[\"MOI\"].value_counts()"
      ]
    },
    {
      "cell_type": "code",
      "execution_count": null,
      "metadata": {
        "colab": {
          "base_uri": "https://localhost:8080/"
        },
        "id": "qQfUyG3g_E4H",
        "outputId": "e1c3fd5e-88df-462d-8bea-22046ee90ede"
      },
      "outputs": [
        {
          "data": {
            "text/plain": [
              "1.3874850570922133"
            ]
          },
          "execution_count": 12,
          "metadata": {},
          "output_type": "execute_result"
        }
      ],
      "source": [
        "covariates[\"MOI\"].mean()"
      ]
    },
    {
      "cell_type": "code",
      "execution_count": null,
      "metadata": {
        "colab": {
          "base_uri": "https://localhost:8080/"
        },
        "id": "qKWm6uTnAE2N",
        "outputId": "0becd0dc-62ed-46b1-caa0-31c3b01a1e6b"
      },
      "outputs": [
        {
          "data": {
            "text/plain": [
              "IFNGR2_2       358\n",
              "NO_SITE_47     333\n",
              "NO_SITE_913    317\n",
              "HLA-DRB5_2     315\n",
              "NO_SITE_36     296\n",
              "              ... \n",
              "DNAJC9_2         2\n",
              "ATP1A1_1         2\n",
              "EIF2S3_3         1\n",
              "UBC_2            1\n",
              "TUBB_2           1\n",
              "Name: sgRNA, Length: 818, dtype: int64"
            ]
          },
          "execution_count": 61,
          "metadata": {},
          "output_type": "execute_result"
        }
      ],
      "source": [
        "# maybe the first occurence only? otherwise there should be many more combinations: YES, full assignment is below\n",
        "covariates[\"sgRNA\"].value_counts()"
      ]
    },
    {
      "cell_type": "markdown",
      "metadata": {
        "id": "A-ge55eww458"
      },
      "source": []
    }
  ],
  "metadata": {
    "colab": {
      "collapsed_sections": [],
      "name": "Scratch Analysis of Perturb-CITE-seq data.ipynb",
      "provenance": []
    },
    "kernelspec": {
      "display_name": "Python 3",
      "name": "python3"
    },
    "language_info": {
      "codemirror_mode": {
        "name": "ipython",
        "version": 3
      },
      "file_extension": ".py",
      "mimetype": "text/x-python",
      "name": "python",
      "nbconvert_exporter": "python",
      "pygments_lexer": "ipython3",
      "version": "3.9.7"
    }
  },
  "nbformat": 4,
  "nbformat_minor": 0
}
